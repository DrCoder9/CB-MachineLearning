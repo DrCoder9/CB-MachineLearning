{
 "cells": [
  {
   "cell_type": "code",
   "execution_count": 1,
   "metadata": {},
   "outputs": [],
   "source": [
    "import requests\n",
    "from bs4 import BeautifulSoup"
   ]
  },
  {
   "cell_type": "code",
   "execution_count": 7,
   "metadata": {},
   "outputs": [],
   "source": [
    "url = r\"https://www.goodreads.com/quotes/tag/{}?page={}\"\n",
    "data = requests.get(url.format(\"love\", 2))"
   ]
  },
  {
   "cell_type": "code",
   "execution_count": 11,
   "metadata": {},
   "outputs": [],
   "source": [
    "soup = BeautifulSoup(data.text)"
   ]
  },
  {
   "cell_type": "code",
   "execution_count": 12,
   "metadata": {},
   "outputs": [
    {
     "data": {
      "text/plain": [
       "bs4.element.Tag"
      ]
     },
     "execution_count": 12,
     "metadata": {},
     "output_type": "execute_result"
    }
   ],
   "source": [
    "type(soup.head)"
   ]
  },
  {
   "cell_type": "code",
   "execution_count": 13,
   "metadata": {},
   "outputs": [
    {
     "data": {
      "text/plain": [
       "bs4.BeautifulSoup"
      ]
     },
     "execution_count": 13,
     "metadata": {},
     "output_type": "execute_result"
    }
   ],
   "source": [
    "type(soup)"
   ]
  },
  {
   "cell_type": "code",
   "execution_count": 14,
   "metadata": {},
   "outputs": [
    {
     "data": {
      "text/plain": [
       "<title>Love Quotes (73019 quotes)</title>"
      ]
     },
     "execution_count": 14,
     "metadata": {},
     "output_type": "execute_result"
    }
   ],
   "source": [
    "soup.head.title"
   ]
  },
  {
   "cell_type": "code",
   "execution_count": 34,
   "metadata": {},
   "outputs": [],
   "source": [
    "quote_divs = soup.findAll('div', attrs={\"class\": \"quote\"})"
   ]
  },
  {
   "cell_type": "code",
   "execution_count": 42,
   "metadata": {},
   "outputs": [
    {
     "name": "stdout",
     "output_type": "stream",
     "text": [
      "<div class=\"right\">\n",
      "<a class=\"smallText\" href=\"/quotes/28571-if-i-had-a-flower-for-every-time-i-thought\" title=\"View this quote\">20057 likes</a>\n",
      "</div>\n",
      "<div class=\"right\">\n",
      "<a class=\"smallText\" href=\"/quotes/171595-the-real-lover-is-the-man-who-can-thrill-you\" title=\"View this quote\">19864 likes</a>\n",
      "</div>\n",
      "<div class=\"right\">\n",
      "<a class=\"smallText\" href=\"/quotes/3058-to-love-at-all-is-to-be-vulnerable-love-anything\" title=\"View this quote\">18905 likes</a>\n",
      "</div>\n",
      "<div class=\"right\">\n",
      "<a class=\"smallText\" href=\"/quotes/57741-dumbledore-watched-her-fly-away-and-as-her-silvery-glow\" title=\"View this quote\">18833 likes</a>\n",
      "</div>\n",
      "<div class=\"right\">\n",
      "<a class=\"smallText\" href=\"/quotes/292212-when-someone-loves-you-the-way-they-talk-about-you\" title=\"View this quote\">18597 likes</a>\n",
      "</div>\n",
      "<div class=\"right\">\n",
      "<a class=\"smallText\" href=\"/quotes/18630-i-ve-been-making-a-list-of-the-things-they-don-t\" title=\"View this quote\">18147 likes</a>\n",
      "</div>\n",
      "<div class=\"right\">\n",
      "<a class=\"smallText\" href=\"/quotes/381-to-die-will-be-an-awfully-big-adventure\" title=\"View this quote\">16971 likes</a>\n",
      "</div>\n",
      "<div class=\"right\">\n",
      "<a class=\"smallText\" href=\"/quotes/5791-a-lady-s-imagination-is-very-rapid-it-jumps-from-admiration\" title=\"View this quote\">16697 likes</a>\n",
      "</div>\n",
      "<div class=\"right\">\n",
      "<a class=\"smallText\" href=\"/quotes/5402-so-it-s-not-gonna-be-easy-it-s-going-to-be\" title=\"View this quote\">16405 likes</a>\n",
      "</div>\n",
      "<div class=\"right\">\n",
      "<a class=\"smallText\" href=\"/quotes/29865-just-when-you-think-it-can-t-get-any-worse-it\" title=\"View this quote\">15397 likes</a>\n",
      "</div>\n",
      "<div class=\"right\">\n",
      "<a class=\"smallText\" href=\"/quotes/1946-tis-better-to-have-loved-and-lost-than-never-to\" title=\"View this quote\">15199 likes</a>\n",
      "</div>\n",
      "<div class=\"right\">\n",
      "<a class=\"smallText\" href=\"/quotes/10722-i-love-you-as-certain-dark-things-are-to-be\" title=\"View this quote\">14697 likes</a>\n",
      "</div>\n",
      "<div class=\"right\">\n",
      "<a class=\"smallText\" href=\"/quotes/361858-he-s-not-perfect-you-aren-t-either-and-the-two-of\" title=\"View this quote\">14253 likes</a>\n",
      "</div>\n",
      "<div class=\"right\">\n",
      "<a class=\"smallText\" href=\"/quotes/19071-the-one-you-love-and-the-one-who-loves-you\" title=\"View this quote\">13553 likes</a>\n",
      "</div>\n",
      "<div class=\"right\">\n",
      "<a class=\"smallText\" href=\"/quotes/485702-some-people-don-t-understand-the-promises-they-re-making-when-they\" title=\"View this quote\">13401 likes</a>\n",
      "</div>\n",
      "<div class=\"right\">\n",
      "<a class=\"smallText\" href=\"/quotes/182896-i-no-longer-believed-in-the-idea-of-soul-mates\" title=\"View this quote\">12025 likes</a>\n",
      "</div>\n",
      "<div class=\"right\">\n",
      "<a class=\"smallText\" href=\"/quotes/11195-when-we-love-we-always-strive-to-become-better-than\" title=\"View this quote\">11752 likes</a>\n",
      "</div>\n",
      "<div class=\"right\">\n",
      "<a class=\"smallText\" href=\"/quotes/19219-one-is-loved-because-one-is-loved-no-reason-is\" title=\"View this quote\">11572 likes</a>\n",
      "</div>\n",
      "<div class=\"right\">\n",
      "<a class=\"smallText\" href=\"/quotes/739-when-i-despair-i-remember-that-all-through-history-the\" title=\"View this quote\">11438 likes</a>\n",
      "</div>\n",
      "<div class=\"right\">\n",
      "<a class=\"smallText\" href=\"/quotes/37491-love-is-needing-someone-love-is-putting-up-with-someone-s\" title=\"View this quote\">11389 likes</a>\n",
      "</div>\n",
      "<div class=\"right\">\n",
      "<a class=\"smallText\" href=\"/quotes/24138-love-is-patient-love-is-kind-it-does-not-envy\" title=\"View this quote\">11139 likes</a>\n",
      "</div>\n",
      "<div class=\"right\">\n",
      "<a class=\"smallText\" href=\"/quotes/3710-we-love-the-things-we-love-for-what-they-are\" title=\"View this quote\">11040 likes</a>\n",
      "</div>\n",
      "<div class=\"right\">\n",
      "<a class=\"smallText\" href=\"/quotes/11422-i-would-die-for-you-but-i-won-t-live-for\" title=\"View this quote\">10874 likes</a>\n",
      "</div>\n",
      "<div class=\"right\">\n",
      "<a class=\"smallText\" href=\"/quotes/4566-in-vain-have-i-struggled-it-will-not-do-my\" title=\"View this quote\">10873 likes</a>\n",
      "</div>\n",
      "<div class=\"right\">\n",
      "<a class=\"smallText\" href=\"/quotes/745-perhaps-all-the-dragons-in-our-lives-are-princesses-who\" title=\"View this quote\">10777 likes</a>\n",
      "</div>\n",
      "<div class=\"right\">\n",
      "<a class=\"smallText\" href=\"/quotes/49991-so-i-love-you-because-the-entire-universe-conspired-to\" title=\"View this quote\">10542 likes</a>\n",
      "</div>\n",
      "<div class=\"right\">\n",
      "<a class=\"smallText\" href=\"/quotes/17533-i-carry-your-heart-with-me-i-carry-it-in\" title=\"View this quote\">10535 likes</a>\n",
      "</div>\n",
      "<div class=\"right\">\n",
      "<a class=\"smallText\" href=\"/quotes/55875-you-are-and-always-have-been-my-dream\" title=\"View this quote\">10394 likes</a>\n",
      "</div>\n",
      "<div class=\"right\">\n",
      "<a class=\"smallText\" href=\"/quotes/16601-the-only-thing-worse-than-a-boy-who-hates-you\" title=\"View this quote\">10329 likes</a>\n",
      "</div>\n",
      "<div class=\"right\">\n",
      "<a class=\"smallText\" href=\"/quotes/119270-you-are-my-best-friend-as-well-as-my-lover\" title=\"View this quote\">10323 likes</a>\n",
      "</div>\n"
     ]
    }
   ],
   "source": []
  },
  {
   "cell_type": "code",
   "execution_count": null,
   "metadata": {},
   "outputs": [],
   "source": []
  }
 ],
 "metadata": {
  "kernelspec": {
   "display_name": "Python 3",
   "language": "python",
   "name": "python3"
  },
  "language_info": {
   "codemirror_mode": {
    "name": "ipython",
    "version": 3
   },
   "file_extension": ".py",
   "mimetype": "text/x-python",
   "name": "python",
   "nbconvert_exporter": "python",
   "pygments_lexer": "ipython3",
   "version": "3.7.0"
  }
 },
 "nbformat": 4,
 "nbformat_minor": 2
}
