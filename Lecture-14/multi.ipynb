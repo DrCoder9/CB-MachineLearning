{
 "cells": [
  {
   "cell_type": "code",
   "execution_count": 1,
   "metadata": {},
   "outputs": [
    {
     "name": "stderr",
     "output_type": "stream",
     "text": [
      "Using TensorFlow backend.\n"
     ]
    }
   ],
   "source": [
    "from keras.models import Model\n",
    "from keras.layers import Dense, Input\n",
    "from keras.losses import categorical_crossentropy\n",
    "from keras.optimizers import adam\n",
    "from sklearn.model_selection import train_test_split\n",
    "\n",
    "import matplotlib.pyplot as plt\n",
    "import numpy as np\n",
    "from keras.preprocessing.image import load_img\n",
    "from sklearn.preprocessing import OneHotEncoder"
   ]
  },
  {
   "cell_type": "code",
   "execution_count": 2,
   "metadata": {},
   "outputs": [],
   "source": [
    "mnist = np.load(\"../datasets/mnist_train_small.npy\")"
   ]
  },
  {
   "cell_type": "code",
   "execution_count": 3,
   "metadata": {},
   "outputs": [],
   "source": [
    "X, y = mnist[:, 1:], mnist[:, 0]"
   ]
  },
  {
   "cell_type": "code",
   "execution_count": 4,
   "metadata": {},
   "outputs": [],
   "source": [
    "y_oe = (y % 2) == 0 "
   ]
  },
  {
   "cell_type": "code",
   "execution_count": 5,
   "metadata": {},
   "outputs": [],
   "source": [
    "ohe = OneHotEncoder(categories=\"auto\")"
   ]
  },
  {
   "cell_type": "code",
   "execution_count": 6,
   "metadata": {},
   "outputs": [],
   "source": [
    "y_hot = ohe.fit_transform(y.reshape(-1, 1))"
   ]
  },
  {
   "cell_type": "code",
   "execution_count": 7,
   "metadata": {},
   "outputs": [],
   "source": [
    "y_hot_oe = ohe.fit_transform(y_oe.reshape(-1, 1))"
   ]
  },
  {
   "cell_type": "code",
   "execution_count": null,
   "metadata": {},
   "outputs": [],
   "source": []
  },
  {
   "cell_type": "code",
   "execution_count": 8,
   "metadata": {},
   "outputs": [],
   "source": [
    "in_layer = Input((784,))\n",
    "d1 = Dense(400, activation=\"tanh\")(in_layer)\n",
    "d2 = Dense(200, activation=\"tanh\")(d1)\n",
    "d3 = Dense(100, activation=\"tanh\")(d2)\n",
    "d41 = Dense(50, activation=\"tanh\")(d3)\n",
    "d42 = Dense(30, activation=\"tanh\")(d3)\n",
    "o1 = Dense(10, activation=\"softmax\", name=\"out1\")(d41)\n",
    "o2 = Dense(2, activation=\"softmax\", name=\"out2\")(d42)\n"
   ]
  },
  {
   "cell_type": "code",
   "execution_count": 9,
   "metadata": {},
   "outputs": [],
   "source": [
    "model = Model(inputs=[in_layer], outputs=[o1, o2])"
   ]
  },
  {
   "cell_type": "code",
   "execution_count": 10,
   "metadata": {},
   "outputs": [
    {
     "name": "stdout",
     "output_type": "stream",
     "text": [
      "Model: \"model_1\"\n",
      "__________________________________________________________________________________________________\n",
      "Layer (type)                    Output Shape         Param #     Connected to                     \n",
      "==================================================================================================\n",
      "input_1 (InputLayer)            (None, 784)          0                                            \n",
      "__________________________________________________________________________________________________\n",
      "dense_1 (Dense)                 (None, 400)          314000      input_1[0][0]                    \n",
      "__________________________________________________________________________________________________\n",
      "dense_2 (Dense)                 (None, 200)          80200       dense_1[0][0]                    \n",
      "__________________________________________________________________________________________________\n",
      "dense_3 (Dense)                 (None, 100)          20100       dense_2[0][0]                    \n",
      "__________________________________________________________________________________________________\n",
      "dense_4 (Dense)                 (None, 50)           5050        dense_3[0][0]                    \n",
      "__________________________________________________________________________________________________\n",
      "dense_5 (Dense)                 (None, 30)           3030        dense_3[0][0]                    \n",
      "__________________________________________________________________________________________________\n",
      "out1 (Dense)                    (None, 10)           510         dense_4[0][0]                    \n",
      "__________________________________________________________________________________________________\n",
      "out2 (Dense)                    (None, 2)            62          dense_5[0][0]                    \n",
      "==================================================================================================\n",
      "Total params: 422,952\n",
      "Trainable params: 422,952\n",
      "Non-trainable params: 0\n",
      "__________________________________________________________________________________________________\n"
     ]
    }
   ],
   "source": [
    "model.summary()"
   ]
  },
  {
   "cell_type": "code",
   "execution_count": 11,
   "metadata": {},
   "outputs": [],
   "source": [
    "# X_train, X_test, y_train, y_test = train_test_split(\n",
    "# ...     X, y_hot, test_size=0.33, random_state=42)"
   ]
  },
  {
   "cell_type": "code",
   "execution_count": null,
   "metadata": {},
   "outputs": [],
   "source": []
  },
  {
   "cell_type": "code",
   "execution_count": 12,
   "metadata": {},
   "outputs": [],
   "source": [
    "model.compile(optimizer=\"adam\", loss=\"categorical_crossentropy\", metrics=[\"accuracy\"])"
   ]
  },
  {
   "cell_type": "code",
   "execution_count": 13,
   "metadata": {},
   "outputs": [
    {
     "name": "stdout",
     "output_type": "stream",
     "text": [
      "Epoch 1/10\n",
      "19999/19999 [==============================] - 7s 356us/step - loss: 0.8465 - out1_loss: 0.5896 - out2_loss: 0.2569 - out1_accuracy: 0.8153 - out2_accuracy: 0.8940\n",
      "Epoch 2/10\n",
      "19999/19999 [==============================] - 6s 288us/step - loss: 0.6464 - out1_loss: 0.4506 - out2_loss: 0.1958 - out1_accuracy: 0.8550 - out2_accuracy: 0.9233\n",
      "Epoch 3/10\n",
      "19999/19999 [==============================] - 6s 315us/step - loss: 0.5822 - out1_loss: 0.4079 - out2_loss: 0.1744 - out1_accuracy: 0.8682 - out2_accuracy: 0.9324\n",
      "Epoch 4/10\n",
      "19999/19999 [==============================] - 7s 327us/step - loss: 0.5628 - out1_loss: 0.3961 - out2_loss: 0.1667 - out1_accuracy: 0.8725 - out2_accuracy: 0.9352\n",
      "Epoch 5/10\n",
      "19999/19999 [==============================] - 6s 322us/step - loss: 0.5096 - out1_loss: 0.3553 - out2_loss: 0.1543 - out1_accuracy: 0.8856 - out2_accuracy: 0.9407\n",
      "Epoch 6/10\n",
      "19999/19999 [==============================] - 6s 305us/step - loss: 0.5118 - out1_loss: 0.3613 - out2_loss: 0.1505 - out1_accuracy: 0.8835 - out2_accuracy: 0.9434\n",
      "Epoch 7/10\n",
      "19999/19999 [==============================] - 7s 332us/step - loss: 0.5065 - out1_loss: 0.3498 - out2_loss: 0.1567 - out1_accuracy: 0.8850 - out2_accuracy: 0.9379\n",
      "Epoch 8/10\n",
      "19999/19999 [==============================] - 6s 299us/step - loss: 0.4768 - out1_loss: 0.3282 - out2_loss: 0.1486 - out1_accuracy: 0.8959 - out2_accuracy: 0.9427\n",
      "Epoch 9/10\n",
      "19999/19999 [==============================] - 6s 295us/step - loss: 0.4456 - out1_loss: 0.3114 - out2_loss: 0.1342 - out1_accuracy: 0.9029 - out2_accuracy: 0.9505\n",
      "Epoch 10/10\n",
      "19999/19999 [==============================] - 7s 334us/step - loss: 0.4397 - out1_loss: 0.3063 - out2_loss: 0.1334 - out1_accuracy: 0.9009 - out2_accuracy: 0.9498 1s - loss: 0.4392 - out1_loss: 0.3064 - out2_loss: 0.1328 - out1_accuracy: 0.9015 -\n"
     ]
    },
    {
     "data": {
      "text/plain": [
       "<keras.callbacks.callbacks.History at 0x13bfad940>"
      ]
     },
     "execution_count": 13,
     "metadata": {},
     "output_type": "execute_result"
    }
   ],
   "source": [
    "model.fit(X, [y_hot, y_hot_oe], epochs=10)"
   ]
  },
  {
   "cell_type": "code",
   "execution_count": 14,
   "metadata": {},
   "outputs": [
    {
     "name": "stdout",
     "output_type": "stream",
     "text": [
      "19999/19999 [==============================] - 3s 127us/step\n"
     ]
    },
    {
     "data": {
      "text/plain": [
       "[0.44031544643745724,\n",
       " 0.3009762465953827,\n",
       " 0.1393577605485916,\n",
       " 0.9036451578140259,\n",
       " 0.9477474093437195]"
      ]
     },
     "execution_count": 14,
     "metadata": {},
     "output_type": "execute_result"
    }
   ],
   "source": [
    "model.evaluate(X, [y_hot, y_hot_oe])"
   ]
  },
  {
   "cell_type": "code",
   "execution_count": null,
   "metadata": {},
   "outputs": [],
   "source": []
  },
  {
   "cell_type": "code",
   "execution_count": null,
   "metadata": {},
   "outputs": [],
   "source": []
  },
  {
   "cell_type": "code",
   "execution_count": null,
   "metadata": {},
   "outputs": [],
   "source": []
  },
  {
   "cell_type": "code",
   "execution_count": null,
   "metadata": {},
   "outputs": [],
   "source": [
    "img = load_img(\"../datasets/nums/two.jpeg\", target_size=(28, 28), grayscale=True)\n",
    "type(img)\n",
    "plane = (np.array(img) < 100).astype(int) * 255\n",
    "plt.imshow(plane, cmap=\"gray\")\n",
    "val, oe = model.predict(np.array([plane.flatten()]))\n",
    "print(val.argsort(axis=1)[0][-1])\n",
    "\n",
    "ans = oe.argsort(axis=1)[0][1]\n",
    "if ans == 0:\n",
    "    print(\"ODD\")\n",
    "else:\n",
    "    print(\"EVEN\")"
   ]
  },
  {
   "cell_type": "code",
   "execution_count": null,
   "metadata": {},
   "outputs": [],
   "source": []
  },
  {
   "cell_type": "code",
   "execution_count": null,
   "metadata": {},
   "outputs": [],
   "source": []
  },
  {
   "cell_type": "code",
   "execution_count": null,
   "metadata": {},
   "outputs": [],
   "source": []
  }
 ],
 "metadata": {
  "kernelspec": {
   "display_name": "Python 3",
   "language": "python",
   "name": "python3"
  },
  "language_info": {
   "codemirror_mode": {
    "name": "ipython",
    "version": 3
   },
   "file_extension": ".py",
   "mimetype": "text/x-python",
   "name": "python",
   "nbconvert_exporter": "python",
   "pygments_lexer": "ipython3",
   "version": "3.6.0"
  }
 },
 "nbformat": 4,
 "nbformat_minor": 4
}
