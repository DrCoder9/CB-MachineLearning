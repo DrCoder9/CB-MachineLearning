{
 "cells": [
  {
   "cell_type": "code",
   "execution_count": 1,
   "metadata": {},
   "outputs": [],
   "source": [
    "# import nltk\n",
    "# import ssl\n",
    "\n",
    "# try:\n",
    "#     _create_unverified_https_context = ssl._create_unverified_context\n",
    "# except AttributeError:\n",
    "#     pass\n",
    "# else:\n",
    "#     ssl._create_default_https_context = _create_unverified_https_context\n",
    "\n",
    "# nltk.download(\"popular\")"
   ]
  },
  {
   "cell_type": "code",
   "execution_count": 2,
   "metadata": {},
   "outputs": [],
   "source": [
    "with open(\"speech.txt\") as speech:\n",
    "    text = speech.read()"
   ]
  },
  {
   "cell_type": "code",
   "execution_count": 3,
   "metadata": {},
   "outputs": [],
   "source": [
    "k = 5"
   ]
  },
  {
   "cell_type": "code",
   "execution_count": 4,
   "metadata": {},
   "outputs": [],
   "source": [
    "import random"
   ]
  },
  {
   "cell_type": "code",
   "execution_count": null,
   "metadata": {},
   "outputs": [],
   "source": []
  },
  {
   "cell_type": "code",
   "execution_count": 14,
   "metadata": {},
   "outputs": [],
   "source": [
    "# markov\n",
    "k = 10\n",
    "words = {}\n",
    "\n",
    "for i in range(len(text) - k - 1):\n",
    "    text_slice = text[i:i+k]\n",
    "    next_char = text[i+k]\n",
    "    \n",
    "    if text_slice not in words: \n",
    "        words[text_slice] = {}\n",
    "        \n",
    "    if next_char not in words[text_slice]:\n",
    "        words[text_slice][next_char] = 0\n",
    "    \n",
    "    words[text_slice][next_char] += 1\n",
    "\n",
    "greeting = \"As many of you know\"\n",
    "\n",
    "for i in range(1000):\n",
    "    cut = greeting[-k:]\n",
    "    famous = sorted(words[cut].items(), key=lambda x: x[1])[-3:]\n",
    "    char= random.choice(famous)[0]\n",
    "    greeting += char\n",
    "\n",
    "print(greeting)"
   ]
  },
  {
   "cell_type": "code",
   "execution_count": null,
   "metadata": {},
   "outputs": [],
   "source": []
  },
  {
   "cell_type": "code",
   "execution_count": null,
   "metadata": {},
   "outputs": [],
   "source": []
  }
 ],
 "metadata": {
  "kernelspec": {
   "display_name": "Python 3",
   "language": "python",
   "name": "python3"
  },
  "language_info": {
   "codemirror_mode": {
    "name": "ipython",
    "version": 3
   },
   "file_extension": ".py",
   "mimetype": "text/x-python",
   "name": "python",
   "nbconvert_exporter": "python",
   "pygments_lexer": "ipython3",
   "version": "3.8.0"
  }
 },
 "nbformat": 4,
 "nbformat_minor": 4
}
